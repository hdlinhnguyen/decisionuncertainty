{
 "cells": [
  {
   "cell_type": "markdown",
   "metadata": {
    "id": "GqDAHSx_XFh9"
   },
   "source": [
    "# Value Iteration & Policy Iteration"
   ]
  },
  {
   "cell_type": "markdown",
   "metadata": {
    "id": "BeCbCndGXPr_"
   },
   "source": [
    "We will use a simple gridworld example.\n",
    "\n",
    "\n",
    "\n",
    "\n",
    "\n",
    "![gridworld](./gridworld.png)\n",
    "\n",
    "Transition function: When an agent performs a move she will go in the correct direction with probability 0.8. However, she may slip and go in each of the perpendicular directions with probability 0.1. Two states on the right are terminal step, each action performed there ends the episode.\n",
    "\n",
    "Reward function: The agent gets a penalty for every move she makes, doing an action in the two terminal states yield a reward of 1 (state (4,3)), resp(-1 (state (4,2))).\n",
    "\n",
    "We number the states as follows:\n",
    "\n",
    "| 7 | 8 | 9 | 10 |\n",
    "|---|---|----|---|\n",
    "| **4** |  - | **5** | **6**  |\n",
    "| **0** | **1** | **2** | **3**  |\n",
    "\n",
    "States 6 and 10 are final states.\n",
    "\n",
    "We have 4 possible different actions, denoted as follows:\n",
    "* $\\uparrow$: 0 \n",
    "* $\\leftarrow$ : 1\n",
    "* $\\downarrow$: 2\n",
    "* $\\rightarrow$ : 3\n",
    "\n",
    "We write below the transition and reward matrices ($T$ and $R$). Hence, $T[s_1,a,s_2]$ yields the probability that the agent reaches $s_2$ when performing action $a$ in state $s_1$ and $R[s,a]$ yields the reward that the agent gets when doing action $a$ in state $s$.\n",
    "\n",
    "You can easily change the penalty value for performing one movement action by changing the `penalty` variable below."
   ]
  },
  {
   "cell_type": "code",
   "execution_count": 1,
   "metadata": {
    "id": "AGGujRrVXEe3"
   },
   "outputs": [],
   "source": [
    "import numpy as np\n",
    "import matplotlib.pyplot as plt\n",
    "\n",
    "l = 0.8\n",
    "s = 0.1\n",
    "v_win = 1\n",
    "v_lose = -1\n",
    "\n",
    "T = np.zeros((11, 4, 11))\n",
    "#UP\n",
    "T[0,0,:]=[s, s, 0, 0, l, 0, 0, 0, 0, 0, 0 ] \n",
    "T[1,0,:]=[s, l, s, 0, 0, 0, 0, 0, 0, 0, 0 ]\n",
    "T[2,0,:]=[0, s, 0, s, 0, l, 0, 0, 0, 0, 0 ]\n",
    "T[3,0,:]=[0, 0, s, s, 0, 0, l, 0, 0, 0, 0 ]\n",
    "T[4,0,:]=[0, 0, 0, 0, 2*s, 0, 0, l, 0, 0, 0 ]\n",
    "T[5,0,:]=[0, 0, 0, 0, 0, s, s, 0, 0, l, 0 ]\n",
    "T[6,0,:]=[0, 0, 0, 0, 0, 0, 0, 0, 0, 0, 0 ]\n",
    "T[7,0,:]=[0, 0, 0, 0, 0, 0, 0, s+l, s, 0, 0 ]\n",
    "T[8,0,:]=[0, 0, 0, 0, 0, 0, 0, s, l, s, 0 ]\n",
    "T[9,0,:]=[0, 0, 0, 0, 0, 0, 0, 0, s, l, s ]\n",
    "T[10,0,:]=[0, 0, 0, 0, 0, 0, 0, 0, 0, 0,0 ]\n",
    "#LEFT\n",
    "T[0,1,:]=[s+l, 0, 0, 0, s, 0, 0, 0, 0, 0, 0 ] \n",
    "T[1,1,:]=[l, 2*s, 0, 0, 0, 0, 0, 0, 0, 0, 0 ]\n",
    "T[2,1,:]=[0, l, s, 0, 0, s, 0, 0, 0, 0, 0 ]\n",
    "T[3,1,:]=[0, 0, l, s, 0, 0, s, 0, 0, 0, 0 ]\n",
    "T[4,1,:]=[s, 0, 0, 0, l, 0, 0, s, 0, 0, 0 ]\n",
    "T[5,1,:]=[0, 0, s, 0, 0, l, 0, 0, 0, s, 0 ]\n",
    "T[6,1,:]=[0, 0, 0, 0, 0, 0, 0, 0, 0, 0, 0 ]\n",
    "T[7,1,:]=[0, 0, 0, 0, s, 0, 0, s+l, 0, 0, 0 ]\n",
    "T[8,1,:]=[0, 0, 0, 0, 0, 0, 0, l, 2*s, 0, 0 ]\n",
    "T[9,1,:]=[0, 0, 0, 0, 0, s, 0, 0, l, s, 0 ]\n",
    "T[10,1,:]=[0, 0, 0, 0, 0, 0, 0, 0, 0, 0,0 ]\n",
    "# DOWN\n",
    "T[0,2,:]=[s+l, s, 0, 0, 0, 0, 0, 0, 0, 0, 0 ] \n",
    "T[1,2,:]=[s, l, s, 0, 0, 0, 0, 0, 0, 0, 0 ]\n",
    "T[2,2,:]=[0, s, l, s, 0, 0, 0, 0, 0, 0, 0 ]\n",
    "T[3,2,:]=[0, 0, s, l+s, 0, 0, 0, 0, 0, 0, 0 ]\n",
    "T[4,2,:]=[l, 0, 0, 0, 2*s, 0, 0, 0, 0, 0, 0 ]\n",
    "T[5,2,:]=[0, 0, l, 0, 0, s, s, 0, 0, 0, 0 ]\n",
    "T[6,2,:]=[0, 0, 0, 0, 0, 0, 0, 0, 0, 0, 0 ]\n",
    "T[7,2,:]=[0, 0, 0, 0, l, 0, 0, s, s, 0, 0 ]\n",
    "T[8,2,:]=[0, 0, 0, 0, 0, 0, 0, s, l, s, 0 ]\n",
    "T[9,2,:]=[0, 0, 0, 0, 0, 0, 0, 0, s, l, s ]\n",
    "T[10,2,:]=[0, 0, 0, 0, 0, 0, 0, 0, 0, 0,0 ]\n",
    "#RIGHT\n",
    "T[0,3,:]=[s, l, 0, 0, s, 0, 0, 0, 0, 0, 0 ] \n",
    "T[1,3,:]=[0, 2*s, l, 0, 0, 0, 0, 0, 0, 0, 0 ]\n",
    "T[2,3,:]=[0, 0, s, l, 0, s, 0, 0, 0, 0, 0 ]\n",
    "T[3,3,:]=[0, 0, 0, s+l, 0, 0, s, 0, 0, 0, 0 ]\n",
    "T[4,3,:]=[s, 0, 0, 0, l, 0, 0, s, 0, 0, 0 ]\n",
    "T[5,3,:]=[0, 0, s, 0, 0, 0, l, 0, 0, s, 0 ]\n",
    "T[6,3,:]=[0, 0, 0, 0, 0, 0, 0, 0, 0, 0, 0 ]\n",
    "T[7,3,:]=[0, 0, 0, 0, s, 0, 0, s, l, 0, 0 ]\n",
    "T[8,3,:]=[0, 0, 0, 0, 0, 0, 0, 0, 2*s, l, 0 ]\n",
    "T[9,3,:]=[0, 0, 0, 0, 0, s, 0, 0, 0, s, l ]\n",
    "T[10,3,:]=[0, 0, 0, 0, 0, 0, 0, 0, 0, 0,0 ]\n",
    "\n",
    "penalty= -0.1;\n",
    "R = penalty*np.ones((11,4))\n",
    "R[10,:]= np.ones(4)*v_win\n",
    "R[6,:]= np.ones(4)*v_lose\n"
   ]
  },
  {
   "cell_type": "markdown",
   "metadata": {
    "id": "10zkeVqGtFpO"
   },
   "source": [
    "## Value Iteration\n",
    "Implement the value iteration algorithm. The method will take as input:\n",
    "* $\\epsilon$ the parameter for the stopping criterion.\n",
    "* $\\gamma$ the discounting factor\n",
    "* $T$ the transition matrix\n",
    "* $R$ the reward matrix\n",
    "\n",
    "The method returns the vector $v: S \\rightarrow {\\mathbb R}$ associating to each state the optimal value of this state.\n",
    "\n",
    "The $printV$ method below will display the values of $v$ for the gridworld problem."
   ]
  },
  {
   "cell_type": "code",
   "execution_count": 2,
   "metadata": {},
   "outputs": [],
   "source": [
    "def valueIteration(eps, gamma, T, R):\n",
    "    nb_state = len(T)\n",
    "    nb_action = R.shape[1]\n",
    "    v = np.zeros(nb_state)\n",
    "    v_tmp = np.zeros(nb_state)\n",
    "    ite = 0\n",
    "    while ite == 0 or np.linalg.norm(v_tmp - v) > (1 - gamma)/(2*gamma)*eps:\n",
    "        v_tmp = v\n",
    "        for s in range(nb_state):\n",
    "            vs = [R[s, a] + gamma*sum([T[s, a, sprime]*v_tmp[sprime] for sprime in range(nb_action)]) for a in range(nb_action)]\n",
    "            v[s] = max(vs)\n",
    "        ite += 1\n",
    "    return v"
   ]
  },
  {
   "cell_type": "code",
   "execution_count": 3,
   "metadata": {
    "id": "y2iqnIKhlg2k"
   },
   "outputs": [],
   "source": [
    "def printV(v):\n",
    "  print('| {:03.2f} | {:03.2f} | {:03.2f} | {:03.2f} |'.format(v[7], v[8], v[9], v[10]))\n",
    "  print('| {:03.2f} | ---- | {:03.2f} | {:03.1f} |'.format(v[4], v[5], v[6]))\n",
    "  print('| {:03.2f} | {:03.2f} | {:03.2f} | {:03.2f} |'.format(v[0], v[1], v[2], v[3]))"
   ]
  },
  {
   "cell_type": "code",
   "execution_count": 4,
   "metadata": {
    "colab": {
     "base_uri": "https://localhost:8080/",
     "height": 68
    },
    "id": "ai_RjaGylVnM",
    "outputId": "1f9a38f0-392b-40e4-f34e-704b422546e6"
   },
   "outputs": [
    {
     "name": "stdout",
     "output_type": "stream",
     "text": [
      "| -0.10 | -0.10 | -0.10 | 1.00 |\n",
      "| -0.10 | ---- | -0.10 | -1.0 |\n",
      "| -0.10 | -0.10 | -0.10 | -0.10 |\n"
     ]
    }
   ],
   "source": [
    "w = valueIteration(0.1, 0.9, T, R)\n",
    "printV(w)"
   ]
  },
  {
   "cell_type": "code",
   "execution_count": 5,
   "metadata": {
    "id": "jvibNWnFzAQO"
   },
   "outputs": [],
   "source": [
    "# plot the best policy given the value function v:\n",
    "# i.e. plot the best action for each state given the value function v.\n",
    "\n",
    "def plotBestPolicy(v, gamma):\n",
    "  bestV=np.zeros(11)\n",
    "  bestA=np.zeros(11)\n",
    "  fig, ax = plt.subplots()\n",
    "  # policy extraction\n",
    "  for s1 in range(11):\n",
    "    val=[]\n",
    "    for a in range(4):\n",
    "      va=0\n",
    "      for s2 in range(11):\n",
    "        va += T[s1,a,s2]*v[s2]\n",
    "      val= val+[ R[s1,a]+gamma*va ]\n",
    "    bestV[s1]=np.max(val)\n",
    "    bestA[s1]=np.argmax(val)\n",
    "\n",
    "    matV= np.array( [[bestV[7], bestV[8], bestV[9], bestV[10]],\n",
    "                    [bestV[4],   -1 , bestV[5], bestV[6]],\n",
    "                    [bestV[0], bestV[1], bestV[2], bestV[3]]]\n",
    "                    )\n",
    "    matA = np.array([\n",
    "                    [bestA[7], bestA[8], bestA[9], -1],\n",
    "                    [bestA[4],   -1 , bestA[5], -1],\n",
    "                    [bestA[0], bestA[1], bestA[2], bestA[3]]])\n",
    "\n",
    "    im = ax.imshow(matV)\n",
    "\n",
    "\n",
    "  for i in range(matV.shape[0]):\n",
    "      for j in range(matV.shape[1]):\n",
    "          if matA[i][j]==-1:\n",
    "              arrow = ''\n",
    "          elif matA[i, j] == 0:\n",
    "              arrow = '^'\n",
    "          elif matA[i, j] == 1:\n",
    "              arrow = '<'\n",
    "          elif matA[i, j] == 2:\n",
    "              arrow = 'v'\n",
    "          elif matA[i, j] == 3:\n",
    "              arrow = '>'\n",
    "          text = ax.text(j, i, arrow, ha = \"center\", va = \"center\",\n",
    "                         color = \"black\")\n",
    "            \n",
    "  cbar = ax.figure.colorbar(im, ax = ax)\n",
    "    \n",
    "  fig.tight_layout()\n",
    "  plt.show() "
   ]
  },
  {
   "cell_type": "code",
   "execution_count": 6,
   "metadata": {
    "colab": {
     "base_uri": "https://localhost:8080/",
     "height": 295
    },
    "id": "4AMDenr44UCt",
    "outputId": "f158214b-8e40-4340-d1dd-8e113d627385",
    "scrolled": true
   },
   "outputs": [
    {
     "data": {
      "image/png": "[encoded data removed]",
      "text/plain": [
       "<Figure size 432x288 with 2 Axes>"
      ]
     },
     "metadata": {
      "needs_background": "light"
     },
     "output_type": "display_data"
    }
   ],
   "source": [
    "plotBestPolicy(w, 0.3)"
   ]
  },
  {
   "cell_type": "markdown",
   "metadata": {
    "id": "iOUAug-46kNB"
   },
   "source": []
  },
  {
   "cell_type": "markdown",
   "metadata": {
    "id": "j6Gh1rWu6SLI"
   },
   "source": [
    "## Policy Iteration\n",
    "\n",
    "Implement the policy iteration algorithm. The method will consider the same arguments as value iteration. \n"
   ]
  },
  {
   "cell_type": "code",
   "execution_count": null,
   "metadata": {},
   "outputs": [
    {
     "ename": "",
     "evalue": "",
     "output_type": "error",
     "traceback": [
      "\u001b[1;31mRunning cells with '/usr/bin/python3' requires the ipykernel package.\n",
      "\u001b[1;31mRun the following command to install 'ipykernel' into the Python environment. \n",
      "\u001b[1;31mCommand: '/usr/bin/python3 -m pip install ipykernel -U --user --force-reinstall'"
     ]
    }
   ],
   "source": [
    "R"
   ]
  },
  {
   "cell_type": "code",
   "execution_count": null,
   "metadata": {
    "id": "iWL-jnqxCUIP"
   },
   "outputs": [
    {
     "ename": "",
     "evalue": "",
     "output_type": "error",
     "traceback": [
      "\u001b[1;31mRunning cells with '/usr/bin/python3' requires the ipykernel package.\n",
      "\u001b[1;31mRun the following command to install 'ipykernel' into the Python environment. \n",
      "\u001b[1;31mCommand: '/usr/bin/python3 -m pip install ipykernel -U --user --force-reinstall'"
     ]
    }
   ],
   "source": [
    "def policyIteration(eps, gamma, T, R):\n",
    "    nb_state = len(T)\n",
    "    pi = np.zeros(nb_state)\n",
    "    pi_tmp = np.zeros(nb_state)\n",
    "    ite = 0\n",
    "    while ite == 0 or pi != pi_tmp:\n",
    "        v = R[:, ]\n",
    "        \n",
    "        t += 1"
   ]
  },
  {
   "cell_type": "code",
   "execution_count": null,
   "metadata": {},
   "outputs": [
    {
     "ename": "",
     "evalue": "",
     "output_type": "error",
     "traceback": [
      "\u001b[1;31mRunning cells with '/usr/bin/python3' requires the ipykernel package.\n",
      "\u001b[1;31mRun the following command to install 'ipykernel' into the Python environment. \n",
      "\u001b[1;31mCommand: '/usr/bin/python3 -m pip install ipykernel -U --user --force-reinstall'"
     ]
    }
   ],
   "source": [
    "w,p = policyIteration(0.001, 0.9, T, R)\n",
    "print(p)\n",
    "printV(w)\n",
    "plotBestPolicy(w, 0.9)"
   ]
  },
  {
   "cell_type": "code",
   "execution_count": null,
   "metadata": {},
   "outputs": [
    {
     "ename": "",
     "evalue": "",
     "output_type": "error",
     "traceback": [
      "\u001b[1;31mRunning cells with '/usr/bin/python3' requires the ipykernel package.\n",
      "\u001b[1;31mRun the following command to install 'ipykernel' into the Python environment. \n",
      "\u001b[1;31mCommand: '/usr/bin/python3 -m pip install ipykernel -U --user --force-reinstall'"
     ]
    }
   ],
   "source": []
  }
 ],
 "metadata": {
  "colab": {
   "name": "TP-RL-PD.ipynb",
   "provenance": []
  },
  "kernelspec": {
   "display_name": "Python 3 (ipykernel)",
   "language": "python",
   "name": "python3"
  },
  "language_info": {
   "codemirror_mode": {
    "name": "ipython",
    "version": 3
   },
   "file_extension": ".py",
   "mimetype": "text/x-python",
   "name": "python",
   "nbconvert_exporter": "python",
   "pygments_lexer": "ipython3",
   "version": "3.8.8"
  }
 },
 "nbformat": 4,
 "nbformat_minor": 1
}
